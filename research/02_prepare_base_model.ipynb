{
 "cells": [
  {
   "cell_type": "code",
   "execution_count": 1,
   "id": "0e936f41",
   "metadata": {},
   "outputs": [],
   "source": [
    "import os\n",
    "import torch\n",
    "import torch.nn as nn\n",
    "import torchvision.models as models\n",
    "from pathlib import Path\n",
    "import logging"
   ]
  },
  {
   "cell_type": "code",
   "execution_count": 2,
   "id": "87d5f3c0",
   "metadata": {},
   "outputs": [],
   "source": [
    "# Set up basic logging for the notebook\n",
    "logging.basicConfig(level=logging.INFO, format='[%(asctime)s]: %(message)s:')\n",
    "logger = logging.getLogger(\"prepare_base_model_logger\")"
   ]
  },
  {
   "cell_type": "code",
   "execution_count": 3,
   "id": "6c459e3b",
   "metadata": {},
   "outputs": [
    {
     "data": {
      "text/plain": [
       "'c:\\\\Users\\\\DELL\\\\cnn-models\\\\research'"
      ]
     },
     "execution_count": 3,
     "metadata": {},
     "output_type": "execute_result"
    }
   ],
   "source": [
    "%pwd"
   ]
  },
  {
   "cell_type": "code",
   "execution_count": 4,
   "id": "f8d1233e",
   "metadata": {},
   "outputs": [],
   "source": [
    "os.chdir(\"../\")"
   ]
  },
  {
   "cell_type": "code",
   "execution_count": 5,
   "id": "75c70a22",
   "metadata": {},
   "outputs": [
    {
     "data": {
      "text/plain": [
       "'c:\\\\Users\\\\DELL\\\\cnn-models'"
      ]
     },
     "execution_count": 5,
     "metadata": {},
     "output_type": "execute_result"
    }
   ],
   "source": [
    "%pwd"
   ]
  },
  {
   "cell_type": "code",
   "execution_count": 6,
   "id": "f01c6cd8",
   "metadata": {},
   "outputs": [],
   "source": [
    "# Cell 2: Define Configuration Entity for Base Model (for prototyping)\n",
    "# In a real modular setup, this would be in src/cnn_classifier/entity/config_entity.py\n",
    "from dataclasses import dataclass\n",
    "\n",
    "@dataclass(frozen=True)\n",
    "class PrepareBaseModelConfig:\n",
    "    root_dir: Path\n",
    "    base_model_path: Path\n",
    "    updated_base_model_path: Path\n",
    "    params_image_size: list\n",
    "    params_batch_size: int # Although not directly used for model architecture, useful for context\n",
    "    params_is_augmentation: bool # Not directly used for model architecture\n",
    "    params_num_classes: int\n",
    "    params_learning_rate: float # Not directly used for model architecture\n",
    "    params_epochs: int # Not directly used for model architecture\n",
    "    params_patience: int # Not directly used for model architecture\n"
   ]
  },
  {
   "cell_type": "code",
   "execution_count": 7,
   "id": "28411eb5",
   "metadata": {},
   "outputs": [],
   "source": [
    "# Cell 3: Mocking Configuration Manager (for notebook testing)\n",
    "# In a real modular setup, this would use the actual ConfigurationManager from src/cnn_classifier/config/configuration.py\n",
    "import yaml\n",
    "from box import ConfigBox\n",
    "\n",
    "def read_yaml_mock(path_to_yaml: Path) -> ConfigBox:\n",
    "    with open(path_to_yaml) as yaml_file:\n",
    "        content = yaml.safe_load(yaml_file)\n",
    "        logger.info(f\"yaml file: {path_to_yaml} loaded successfully\")\n",
    "        return ConfigBox(content)\n",
    "\n",
    "def create_directories_mock(path_to_directories: list):\n",
    "    for path in path_to_directories:\n",
    "        os.makedirs(path, exist_ok=True)\n",
    "        logger.info(f\"created directory at: {path}\")"
   ]
  },
  {
   "cell_type": "code",
   "execution_count": 10,
   "id": "762c58f2",
   "metadata": {},
   "outputs": [],
   "source": [
    "# Mock paths for notebook\n",
    "CONFIG_FILE_PATH_MOCK = Path(\"config/config.yaml\")\n",
    "PARAMS_FILE_PATH_MOCK = Path(\"params.yaml\")\n",
    "\n",
    "class ConfigurationManagerMock:\n",
    "    def __init__(\n",
    "        self,\n",
    "        config_filepath = CONFIG_FILE_PATH_MOCK,\n",
    "        params_filepath = PARAMS_FILE_PATH_MOCK):\n",
    "\n",
    "        self.config = read_yaml_mock(config_filepath)\n",
    "        self.params = read_yaml_mock(params_filepath)\n",
    "\n",
    "        create_directories_mock([self.config.artifacts_root])\n",
    "    def get_prepare_base_model_config(self) -> PrepareBaseModelConfig:\n",
    "        config = self.config.prepare_base_model\n",
    "        params = self.params\n",
    "\n",
    "        create_directories_mock([config.root_dir])\n",
    "\n",
    "        prepare_base_model_config = PrepareBaseModelConfig(\n",
    "            root_dir=Path(config.root_dir),\n",
    "            base_model_path=Path(config.base_model_path),\n",
    "            updated_base_model_path=Path(config.updated_base_model_path),\n",
    "            params_image_size=list(params.IMAGE_SIZE),\n",
    "            params_batch_size=params.BATCH_SIZE,\n",
    "            params_is_augmentation=params.IS_AUGMENTATION,\n",
    "            params_num_classes=params.NUM_CLASSES,\n",
    "            params_learning_rate=params.LEARNING_RATE,\n",
    "            params_epochs=params.EPOCHS,\n",
    "            params_patience=params.PATIENCE\n",
    "        )\n",
    "        return prepare_base_model_config    "
   ]
  },
  {
   "cell_type": "code",
   "execution_count": 11,
   "id": "34071059",
   "metadata": {},
   "outputs": [],
   "source": [
    "# Cell 4: Prepare Base Model Component Logic (for prototyping)\n",
    "# In a real modular setup, this would be in src/cnn_classifier/components/prepare_base_model.py\n",
    "\n",
    "class PrepareBaseModel:\n",
    "    def __init__(self, config: PrepareBaseModelConfig):\n",
    "        self.config = config\n",
    "        self.device = torch.device(\"cuda\" if torch.cuda.is_available() else \"cpu\")\n",
    "        logger.info(f\"Using device: {self.device}\")\n",
    "\n",
    "    def get_base_model(self):\n",
    "        # Load pre-trained ResNet18\n",
    "        self.model = models.resnet18(weights=models.ResNet18_Weights.IMAGENET1K_V1) # Use weights=... for pre-trained\n",
    "        logger.info(\"Loaded pre-trained ResNet18 model.\")\n",
    "\n",
    "        # Freeze all parameters in the feature extracting layers\n",
    "        for param in self.model.parameters():\n",
    "            param.requires_grad = False\n",
    "        logger.info(\"Frozen all parameters in the base model.\")\n",
    "\n",
    "        # Save the initial base model (frozen)\n",
    "        torch.save(self.model.state_dict(), self.config.base_model_path)\n",
    "        logger.info(f\"Initial base model saved to: {self.config.base_model_path}\")\n",
    "\n",
    "    def update_base_model(self):\n",
    "        # Load the frozen base model (if not already loaded)\n",
    "        if not hasattr(self, 'model'):\n",
    "            self.get_base_model() # Ensure base model is loaded and frozen\n",
    "\n",
    "        # Modify the final classification layer\n",
    "        num_ftrs = self.model.fc.in_features\n",
    "        self.model.fc = nn.Linear(num_ftrs, self.config.params_num_classes)\n",
    "        logger.info(f\"Modified final FC layer to have {self.config.params_num_classes} output features.\")\n",
    "\n",
    "        # Move model to device\n",
    "        self.model.to(self.device)\n",
    "        logger.info(f\"Model moved to {self.device}.\")\n",
    "\n",
    "        # Save the updated base model\n",
    "        torch.save(self.model.state_dict(), self.config.updated_base_model_path)\n",
    "        logger.info(f\"Updated base model saved to: {self.config.updated_base_model_path}\")\n"
   ]
  },
  {
   "cell_type": "code",
   "execution_count": 14,
   "id": "6cfe5d85",
   "metadata": {},
   "outputs": [
    {
     "name": "stderr",
     "output_type": "stream",
     "text": [
      "[2025-07-20 18:16:50,203]: yaml file: config\\config.yaml loaded successfully:\n",
      "[2025-07-20 18:16:50,205]: yaml file: params.yaml loaded successfully:\n",
      "[2025-07-20 18:16:50,207]: created directory at: artifacts:\n",
      "[2025-07-20 18:16:50,208]: created directory at: artifacts/prepare_base_model:\n",
      "[2025-07-20 18:16:50,209]: Using device: cuda:\n",
      "[2025-07-20 18:16:50,390]: Loaded pre-trained ResNet18 model.:\n",
      "[2025-07-20 18:16:50,391]: Frozen all parameters in the base model.:\n",
      "[2025-07-20 18:16:50,441]: Initial base model saved to: artifacts\\prepare_base_model\\base_model.pth:\n",
      "[2025-07-20 18:16:50,442]: Modified final FC layer to have 4 output features.:\n",
      "[2025-07-20 18:16:50,706]: Model moved to cuda.:\n",
      "[2025-07-20 18:16:50,785]: Updated base model saved to: artifacts\\prepare_base_model\\updated_base_model.pth:\n",
      "[2025-07-20 18:16:50,786]: 🎉 Prepare Base Model stage completed successfully!:\n"
     ]
    }
   ],
   "source": [
    "# Cell 5: Notebook Execution for Prepare Base Model Stage\n",
    "try:\n",
    "    # Initialize mock configuration manager\n",
    "    config_manager_mock = ConfigurationManagerMock()\n",
    "    prepare_base_model_config = config_manager_mock.get_prepare_base_model_config()\n",
    "\n",
    "    # Initialize and run the component\n",
    "    prepare_base_model = PrepareBaseModel(config=prepare_base_model_config)\n",
    "    prepare_base_model.get_base_model() # Save initial frozen model\n",
    "    prepare_base_model.update_base_model() # Update and save final model\n",
    "\n",
    "    logger.info(\"🎉 Prepare Base Model stage completed successfully!\")\n",
    "\n",
    "except Exception as e:\n",
    "    logger.exception(f\"❌ Prepare Base Model stage failed: {e}\")\n",
    "    raise e"
   ]
  },
  {
   "cell_type": "code",
   "execution_count": null,
   "id": "baf1cfda",
   "metadata": {},
   "outputs": [],
   "source": []
  },
  {
   "cell_type": "code",
   "execution_count": null,
   "id": "60813927",
   "metadata": {},
   "outputs": [],
   "source": []
  }
 ],
 "metadata": {
  "kernelspec": {
   "display_name": "brain_tumour_py39",
   "language": "python",
   "name": "python3"
  },
  "language_info": {
   "codemirror_mode": {
    "name": "ipython",
    "version": 3
   },
   "file_extension": ".py",
   "mimetype": "text/x-python",
   "name": "python",
   "nbconvert_exporter": "python",
   "pygments_lexer": "ipython3",
   "version": "3.9.23"
  }
 },
 "nbformat": 4,
 "nbformat_minor": 5
}
